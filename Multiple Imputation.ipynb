{
 "cells": [
  {
   "cell_type": "code",
   "execution_count": 67,
   "id": "cb02f69c-a75c-440b-b5fb-899aa47f3a95",
   "metadata": {},
   "outputs": [],
   "source": [
    "import pandas as pd\n",
    "import numpy as np\n",
    "\n",
    "dataset = \"AER_credit_card_data.csv\"\n",
    "data = pd.read_csv(dataset)\n"
   ]
  },
  {
   "cell_type": "code",
   "execution_count": 68,
   "id": "35785947-7b73-455c-89c5-43ebd28c14a2",
   "metadata": {},
   "outputs": [],
   "source": [
    "import matplotlib\n"
   ]
  },
  {
   "cell_type": "code",
   "execution_count": 69,
   "id": "7837056d-0047-464d-ac65-0222757d79ca",
   "metadata": {},
   "outputs": [
    {
     "data": {
      "text/plain": [
       "card             0\n",
       "reports          0\n",
       "age              0\n",
       "income         194\n",
       "share            0\n",
       "expenditure      0\n",
       "owner            0\n",
       "selfemp          0\n",
       "dependents       0\n",
       "months           0\n",
       "majorcards       0\n",
       "active           0\n",
       "dtype: int64"
      ]
     },
     "execution_count": 69,
     "metadata": {},
     "output_type": "execute_result"
    }
   ],
   "source": [
    "dataDF.isna().sum()"
   ]
  },
  {
   "cell_type": "code",
   "execution_count": 70,
   "id": "c190359e-dc7e-49c4-bfb9-a3ba22066bcc",
   "metadata": {},
   "outputs": [],
   "source": [
    "noNanDF= dataDF.dropna() \n"
   ]
  },
  {
   "cell_type": "code",
   "execution_count": 71,
   "id": "5ac14f04-0c79-4a1f-9ee7-7c5aa8273e5c",
   "metadata": {},
   "outputs": [
    {
     "data": {
      "text/plain": [
       "card           0\n",
       "reports        0\n",
       "age            0\n",
       "income         0\n",
       "share          0\n",
       "expenditure    0\n",
       "owner          0\n",
       "selfemp        0\n",
       "dependents     0\n",
       "months         0\n",
       "majorcards     0\n",
       "active         0\n",
       "dtype: int64"
      ]
     },
     "execution_count": 71,
     "metadata": {},
     "output_type": "execute_result"
    }
   ],
   "source": [
    "noNanDF.isna().sum()"
   ]
  },
  {
   "cell_type": "code",
   "execution_count": 72,
   "id": "f60718dd-410f-488a-9891-e889022bf4b0",
   "metadata": {},
   "outputs": [
    {
     "name": "stdout",
     "output_type": "stream",
     "text": [
      "3.3569133333333303\n"
     ]
    }
   ],
   "source": [
    "count = 0\n",
    "for i in noNanDF.income:\n",
    "    count+=i\n",
    "print (count/len(noNanDF))"
   ]
  },
  {
   "cell_type": "code",
   "execution_count": 73,
   "id": "eb932a36-1384-4803-a632-df9eb4b908ac",
   "metadata": {},
   "outputs": [
    {
     "name": "stdout",
     "output_type": "stream",
     "text": [
      "3.3569133333333334\n"
     ]
    }
   ],
   "source": [
    "incomeMean = (np.mean(noNanDF['income'].values))\n",
    "print (incomeMean)\n"
   ]
  },
  {
   "cell_type": "code",
   "execution_count": 74,
   "id": "e8566385-0d56-437f-b377-6a20fb06d0ac",
   "metadata": {},
   "outputs": [],
   "source": [
    "dataDF['income'] = dataDF['income'].fillna(count/len(noNanDF))\n"
   ]
  },
  {
   "cell_type": "code",
   "execution_count": 75,
   "id": "9bd246c3-32b4-479b-83f6-fc511b52b9e7",
   "metadata": {},
   "outputs": [
    {
     "data": {
      "text/plain": [
       "card           0\n",
       "reports        0\n",
       "age            0\n",
       "income         0\n",
       "share          0\n",
       "expenditure    0\n",
       "owner          0\n",
       "selfemp        0\n",
       "dependents     0\n",
       "months         0\n",
       "majorcards     0\n",
       "active         0\n",
       "dtype: int64"
      ]
     },
     "execution_count": 75,
     "metadata": {},
     "output_type": "execute_result"
    }
   ],
   "source": [
    "dataDF.isna().sum()"
   ]
  },
  {
   "cell_type": "code",
   "execution_count": 76,
   "id": "3aba30ca-7119-4ccd-a228-a2d146b269e6",
   "metadata": {},
   "outputs": [],
   "source": [
    "dataDF.to_csv('AER_credit_card_data______NO_NULL_VALUES.csv')\n"
   ]
  },
  {
   "cell_type": "code",
   "execution_count": null,
   "id": "55a78b04-6963-4d7f-ba72-fd29c1b122f9",
   "metadata": {},
   "outputs": [],
   "source": []
  },
  {
   "cell_type": "code",
   "execution_count": null,
   "id": "97dc985d-24d0-4e3b-9be5-f30872c5c303",
   "metadata": {},
   "outputs": [],
   "source": []
  },
  {
   "cell_type": "code",
   "execution_count": null,
   "id": "54619bfb-6c11-4f74-baee-0770e3b2f7c3",
   "metadata": {},
   "outputs": [],
   "source": []
  },
  {
   "cell_type": "code",
   "execution_count": null,
   "id": "41239f66-4614-4a00-962d-679fd6dd5c0b",
   "metadata": {},
   "outputs": [],
   "source": []
  }
 ],
 "metadata": {
  "kernelspec": {
   "display_name": "Python 3 (ipykernel)",
   "language": "python",
   "name": "python3"
  },
  "language_info": {
   "codemirror_mode": {
    "name": "ipython",
    "version": 3
   },
   "file_extension": ".py",
   "mimetype": "text/x-python",
   "name": "python",
   "nbconvert_exporter": "python",
   "pygments_lexer": "ipython3",
   "version": "3.12.4"
  }
 },
 "nbformat": 4,
 "nbformat_minor": 5
}
